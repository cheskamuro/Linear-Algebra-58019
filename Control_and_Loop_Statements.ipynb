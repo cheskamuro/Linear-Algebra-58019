{
  "nbformat": 4,
  "nbformat_minor": 0,
  "metadata": {
    "colab": {
      "name": "Control and Loop Statements",
      "provenance": [],
      "collapsed_sections": [],
      "authorship_tag": "ABX9TyPixizv0sbwz58hk+yzwFB8",
      "include_colab_link": true
    },
    "kernelspec": {
      "name": "python3",
      "display_name": "Python 3"
    },
    "language_info": {
      "name": "python"
    }
  },
  "cells": [
    {
      "cell_type": "markdown",
      "metadata": {
        "id": "view-in-github",
        "colab_type": "text"
      },
      "source": [
        "<a href=\"https://colab.research.google.com/github/cheskamuro/Linear-Algebra-58019/blob/main/Control_and_Loop_Statements.ipynb\" target=\"_parent\"><img src=\"https://colab.research.google.com/assets/colab-badge.svg\" alt=\"Open In Colab\"/></a>"
      ]
    },
    {
      "cell_type": "markdown",
      "source": [
        "##If Statement"
      ],
      "metadata": {
        "id": "hHGDMRjwcvdZ"
      }
    },
    {
      "cell_type": "code",
      "source": [
        "a=100\n",
        "b=100\n",
        "\n",
        "if b>a:\n",
        "  print(\"b is greater than a\")"
      ],
      "metadata": {
        "id": "aIDQ55MnczJJ"
      },
      "execution_count": 15,
      "outputs": []
    },
    {
      "cell_type": "markdown",
      "source": [
        "##Elif Statement"
      ],
      "metadata": {
        "id": "HHl5SiZydt4O"
      }
    },
    {
      "cell_type": "code",
      "source": [
        "if b>a:\n",
        "  print(\"b is greater than a\")\n",
        "elif a>b:\n",
        "  print(\"a is greater than b\")"
      ],
      "metadata": {
        "colab": {
          "base_uri": "https://localhost:8080/"
        },
        "id": "oVkNsRnrd0II",
        "outputId": "d525eca0-3500-4f75-d971-a38c36855aa3"
      },
      "execution_count": 12,
      "outputs": [
        {
          "output_type": "stream",
          "name": "stdout",
          "text": [
            "b is greater than a\n"
          ]
        }
      ]
    },
    {
      "cell_type": "markdown",
      "source": [
        "##Else Statement"
      ],
      "metadata": {
        "id": "81-SjudJeYxo"
      }
    },
    {
      "cell_type": "code",
      "source": [
        "if b>a:\n",
        "  print(\"b is greater than a\")\n",
        "elif a>b:\n",
        "  print(\"a is greater than b\")\n",
        "else:\n",
        "  print(\"a is equal to b\")"
      ],
      "metadata": {
        "colab": {
          "base_uri": "https://localhost:8080/"
        },
        "id": "a4DgkslheeBg",
        "outputId": "a11ff7b7-2edf-4d3b-9098-32fa9252f1cd"
      },
      "execution_count": 16,
      "outputs": [
        {
          "output_type": "stream",
          "name": "stdout",
          "text": [
            "a is equal to b\n"
          ]
        }
      ]
    },
    {
      "cell_type": "markdown",
      "source": [
        "##Short Hand If Statement\n",
        "\n",
        "```\n",
        "# This is formatted as code\n",
        "```\n",
        "\n"
      ],
      "metadata": {
        "id": "-UfXqpFHfCgy"
      }
    },
    {
      "cell_type": "code",
      "source": [
        "a=12\n",
        "b=100\n",
        "if b>a:\n",
        "  print(\"b is greater than a\")"
      ],
      "metadata": {
        "colab": {
          "base_uri": "https://localhost:8080/"
        },
        "id": "QHMY_kKDfJjo",
        "outputId": "5ad444a6-9ebc-4ee1-bcff-d469457d85bd"
      },
      "execution_count": 18,
      "outputs": [
        {
          "output_type": "stream",
          "name": "stdout",
          "text": [
            "b is greater than a\n"
          ]
        }
      ]
    },
    {
      "cell_type": "markdown",
      "source": [
        "##Short Hand If..Else Statement"
      ],
      "metadata": {
        "id": "9jvnHgqYffZ_"
      }
    },
    {
      "cell_type": "code",
      "source": [
        "c=35\n",
        "d=40\n",
        "\n",
        "if c>d:\n",
        "  print(\"c is greater than d\")\n",
        "else:\n",
        "  print(\"d is greater than c\")\n"
      ],
      "metadata": {
        "colab": {
          "base_uri": "https://localhost:8080/"
        },
        "id": "rbv87kf0fqAC",
        "outputId": "b7946166-cdd9-485a-f864-5c6e6b791dab"
      },
      "execution_count": 19,
      "outputs": [
        {
          "output_type": "stream",
          "name": "stdout",
          "text": [
            "d is greater than c\n"
          ]
        }
      ]
    },
    {
      "cell_type": "markdown",
      "source": [
        "##And logic - if both statements or operands are True"
      ],
      "metadata": {
        "id": "vkysls7pgk2Y"
      }
    },
    {
      "cell_type": "code",
      "source": [
        "c=35\n",
        "d=40\n",
        "e=30\n",
        "\n",
        "if d>c and c>e:\n",
        "  print(\"Both conditions must be true\")"
      ],
      "metadata": {
        "colab": {
          "base_uri": "https://localhost:8080/"
        },
        "id": "Ztq4n1CCgxW5",
        "outputId": "eb7ca494-0a1d-4cc8-a20b-c790d1d2aa10"
      },
      "execution_count": 21,
      "outputs": [
        {
          "output_type": "stream",
          "name": "stdout",
          "text": [
            "Both conditions must be true\n"
          ]
        }
      ]
    },
    {
      "cell_type": "markdown",
      "source": [
        "##Or logic-if one of the operands is True"
      ],
      "metadata": {
        "id": "1cfKdB0ohL3w"
      }
    },
    {
      "cell_type": "code",
      "source": [
        "if d>c or e>c:\n",
        "  print(\"If one of the two operands is True\")"
      ],
      "metadata": {
        "colab": {
          "base_uri": "https://localhost:8080/"
        },
        "id": "Q795jlEFhVAa",
        "outputId": "c746b27d-5289-4b8a-94e3-e7961f6c5369"
      },
      "execution_count": 22,
      "outputs": [
        {
          "output_type": "stream",
          "name": "stdout",
          "text": [
            "If one of the two operands is True\n"
          ]
        }
      ]
    },
    {
      "cell_type": "markdown",
      "source": [
        "##Nested If"
      ],
      "metadata": {
        "id": "u_XtehRpiFvw"
      }
    },
    {
      "cell_type": "code",
      "source": [
        "x=int(input())\n",
        "\n",
        "if x>10:\n",
        "  print(\"x is above 10\")\n",
        "if x>20:\n",
        "  print(\"x is above 20\")\n",
        "  if x>30:\n",
        "    print(\"x is above 30\")\n",
        "    if x>40:\n",
        "      print(\"x is above 40\")\n",
        "    else:\n",
        "      print(\"x is not above 40\")\n",
        "  else:\n",
        "    print(\"x is not above 30\")\n",
        "else:\n",
        "  print(\"x is not above 20\")"
      ],
      "metadata": {
        "colab": {
          "base_uri": "https://localhost:8080/"
        },
        "id": "mgPuPTEFiH1Z",
        "outputId": "4c570896-993d-4bfb-c340-47aaace8a403"
      },
      "execution_count": 26,
      "outputs": [
        {
          "output_type": "stream",
          "name": "stdout",
          "text": [
            "45\n",
            "x is above 10\n",
            "x is above 20\n",
            "x is above 30\n",
            "x is above 40\n"
          ]
        }
      ]
    },
    {
      "cell_type": "markdown",
      "source": [
        "##Application 1- Write a program that determines if the input age is qualifies to vote or not. The qualifying age is 18 years old and above."
      ],
      "metadata": {
        "id": "tiba37Ksji-f"
      }
    },
    {
      "cell_type": "code",
      "source": [
        "age=int(input())\n",
        "\n",
        "if age>=18:\n",
        "  print(\"You are qualified to vote\")\n",
        "else:\n",
        "  print(\"You are not qualified to vote\")"
      ],
      "metadata": {
        "colab": {
          "base_uri": "https://localhost:8080/"
        },
        "id": "D_T5bp5Tj4XO",
        "outputId": "5b25ea2b-419e-4b33-cb27-83f55f0e1e71"
      },
      "execution_count": 29,
      "outputs": [
        {
          "output_type": "stream",
          "name": "stdout",
          "text": [
            "18\n",
            "You are qualified to vote\n"
          ]
        }
      ]
    },
    {
      "cell_type": "markdown",
      "source": [
        "##Application 2- Write a program that determines if the input number is POSITIVE, NEGATIVE or Zero."
      ],
      "metadata": {
        "id": "oeU6QbHJkwgA"
      }
    },
    {
      "cell_type": "code",
      "source": [
        "num=int(input())\n",
        "\n",
        "if num==0:\n",
        "  print(\"The number is Zero\")\n",
        "if num>0:\n",
        "  print(\"The number is POSITIVE\")\n",
        "if num<0:\n",
        "  print(\"The number is NEGATIVE\")"
      ],
      "metadata": {
        "colab": {
          "base_uri": "https://localhost:8080/"
        },
        "id": "HxznE0MHk56m",
        "outputId": "76990850-54ae-4349-b140-52c87ab7b1a6"
      },
      "execution_count": 36,
      "outputs": [
        {
          "output_type": "stream",
          "name": "stdout",
          "text": [
            "-3\n",
            "The number is NEGATIVE\n"
          ]
        }
      ]
    },
    {
      "cell_type": "markdown",
      "source": [
        "##For Loop Statement"
      ],
      "metadata": {
        "id": "_Ga0U0LClGiC"
      }
    },
    {
      "cell_type": "code",
      "source": [
        "week=[\"Sunday\", \"Monday\",\"Tuesday\", \"Wednesday\", \"Thursday\",\"Friday\",\"Saturday\"]\n",
        "\n",
        "for x in week:\n",
        "  print(x)"
      ],
      "metadata": {
        "colab": {
          "base_uri": "https://localhost:8080/"
        },
        "id": "wlHy98TYmBvg",
        "outputId": "70f09896-31b7-432a-b95d-5736cc44f793"
      },
      "execution_count": 39,
      "outputs": [
        {
          "output_type": "stream",
          "name": "stdout",
          "text": [
            "Sunday\n",
            "Monday\n",
            "Tuesday\n",
            "Wednesday\n",
            "Thursday\n",
            "Friday\n",
            "Saturday\n"
          ]
        }
      ]
    },
    {
      "cell_type": "markdown",
      "source": [
        "##The Break Statement"
      ],
      "metadata": {
        "id": "vYAGQDV-mtg1"
      }
    },
    {
      "cell_type": "code",
      "source": [
        "for x in week:\n",
        "  print(x)\n",
        "\n",
        "  if x==\"Thursday\":\n",
        "    break"
      ],
      "metadata": {
        "colab": {
          "base_uri": "https://localhost:8080/"
        },
        "id": "a_95OlpzmwXt",
        "outputId": "acee18a9-1fd7-4b9a-ab60-802ede695b55"
      },
      "execution_count": 40,
      "outputs": [
        {
          "output_type": "stream",
          "name": "stdout",
          "text": [
            "Sunday\n",
            "Monday\n",
            "Tuesday\n",
            "Wednesday\n",
            "Thursday\n"
          ]
        }
      ]
    },
    {
      "cell_type": "markdown",
      "source": [
        "##While Loop"
      ],
      "metadata": {
        "id": "JXlTu0NQmw5w"
      }
    },
    {
      "cell_type": "code",
      "source": [
        "y=1\n",
        "\n",
        "while y<2:\n",
        "  print(y)\n",
        "  if y==3:\n",
        "    break\n",
        "  y+=1"
      ],
      "metadata": {
        "colab": {
          "base_uri": "https://localhost:8080/"
        },
        "id": "zBZbGrrbm1G0",
        "outputId": "1b9293e9-5d5b-4d9c-b599-8e2f6e6fdcc6"
      },
      "execution_count": 41,
      "outputs": [
        {
          "output_type": "stream",
          "name": "stdout",
          "text": [
            "1\n"
          ]
        }
      ]
    }
  ]
}