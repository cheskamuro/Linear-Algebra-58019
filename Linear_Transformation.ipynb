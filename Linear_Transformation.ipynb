{
  "nbformat": 4,
  "nbformat_minor": 0,
  "metadata": {
    "colab": {
      "name": "Linear Transformation",
      "provenance": [],
      "collapsed_sections": [],
      "authorship_tag": "ABX9TyN4IP6/aoZiYgT4YhXyUKbn",
      "include_colab_link": true
    },
    "kernelspec": {
      "name": "python3",
      "display_name": "Python 3"
    },
    "language_info": {
      "name": "python"
    }
  },
  "cells": [
    {
      "cell_type": "markdown",
      "metadata": {
        "id": "view-in-github",
        "colab_type": "text"
      },
      "source": [
        "<a href=\"https://colab.research.google.com/github/cheskamuro/Linear-Algebra-58019/blob/main/Linear_Transformation.ipynb\" target=\"_parent\"><img src=\"https://colab.research.google.com/assets/colab-badge.svg\" alt=\"Open In Colab\"/></a>"
      ]
    },
    {
      "cell_type": "markdown",
      "metadata": {
        "id": "DPN1z02MEY1_"
      },
      "source": [
        "###To find the inverse of a matrix, the matrix is passed to the linalg.inv() of the NumPy module:"
      ]
    },
    {
      "cell_type": "code",
      "metadata": {
        "colab": {
          "base_uri": "https://localhost:8080/"
        },
        "id": "3CVq_B2eBZXh",
        "outputId": "91929b89-9664-490d-f7f8-73dcf34bdceb"
      },
      "source": [
        "import numpy as np\n",
        "A=np.array([[4,3],[-5,9]]) #creation of matrix A\n",
        "print(A)\n",
        "inv_A=np.linalg.inv(A)\n",
        "print(inv_A)"
      ],
      "execution_count": 13,
      "outputs": [
        {
          "output_type": "stream",
          "name": "stdout",
          "text": [
            "[[ 4  3]\n",
            " [-5  9]]\n",
            "[[ 0.17647059 -0.05882353]\n",
            " [ 0.09803922  0.07843137]]\n"
          ]
        }
      ]
    },
    {
      "cell_type": "code",
      "metadata": {
        "colab": {
          "base_uri": "https://localhost:8080/"
        },
        "id": "VvzT0LUcGuIA",
        "outputId": "e63c83de-433f-433f-8a34-004a061aa524"
      },
      "source": [
        "B=np.array([[20],[26]])\n",
        "print(B)"
      ],
      "execution_count": 14,
      "outputs": [
        {
          "output_type": "stream",
          "name": "stdout",
          "text": [
            "[[20]\n",
            " [26]]\n"
          ]
        }
      ]
    },
    {
      "cell_type": "code",
      "metadata": {
        "colab": {
          "base_uri": "https://localhost:8080/"
        },
        "id": "1_6W5J1HHKyG",
        "outputId": "51ff39f8-4df0-4a15-81b9-ff1f34032360"
      },
      "source": [
        "X=np.linalg.inv(A).dot(B)\n",
        "print(X)"
      ],
      "execution_count": 15,
      "outputs": [
        {
          "output_type": "stream",
          "name": "stdout",
          "text": [
            "[[2.]\n",
            " [4.]]\n"
          ]
        }
      ]
    },
    {
      "cell_type": "code",
      "metadata": {
        "colab": {
          "base_uri": "https://localhost:8080/"
        },
        "id": "PRgD3M1pHtf3",
        "outputId": "c6c859af-8f39-4e31-bbc6-2013f9ac9cab"
      },
      "source": [
        "X=np.dot(inv_A,B)\n",
        "print(X)"
      ],
      "execution_count": 16,
      "outputs": [
        {
          "output_type": "stream",
          "name": "stdout",
          "text": [
            "[[2.]\n",
            " [4.]]\n"
          ]
        }
      ]
    },
    {
      "cell_type": "markdown",
      "metadata": {
        "id": "RG956MXMJjni"
      },
      "source": [
        "###Solution for the given Linear Equations: (Activity)"
      ]
    },
    {
      "cell_type": "code",
      "metadata": {
        "colab": {
          "base_uri": "https://localhost:8080/"
        },
        "id": "7UXbggYLIg8C",
        "outputId": "7d682432-3bfc-4c3a-b224-1916f9eaa8a7"
      },
      "source": [
        "import numpy as np\n",
        "A=np.array([[[4,3,2],[-2,2,3],[3,-5,2]]]) #creation of matrix A\n",
        "print(A)\n",
        "inv_A=np.linalg.inv(A)\n",
        "print(inv_A)"
      ],
      "execution_count": 17,
      "outputs": [
        {
          "output_type": "stream",
          "name": "stdout",
          "text": [
            "[[[ 4  3  2]\n",
            "  [-2  2  3]\n",
            "  [ 3 -5  2]]]\n",
            "[[[ 0.15447154 -0.1300813   0.04065041]\n",
            "  [ 0.10569106  0.01626016 -0.1300813 ]\n",
            "  [ 0.03252033  0.23577236  0.11382114]]]\n"
          ]
        }
      ]
    },
    {
      "cell_type": "code",
      "metadata": {
        "colab": {
          "base_uri": "https://localhost:8080/"
        },
        "id": "eRuk726zI-UZ",
        "outputId": "4da6b752-b610-47e4-89d2-d6af4a61b8a3"
      },
      "source": [
        "B=np.array([[[25],[-10],[-4]]])\n",
        "print(B)"
      ],
      "execution_count": 22,
      "outputs": [
        {
          "output_type": "stream",
          "name": "stdout",
          "text": [
            "[[[ 25]\n",
            "  [-10]\n",
            "  [ -4]]]\n"
          ]
        }
      ]
    },
    {
      "cell_type": "code",
      "metadata": {
        "colab": {
          "base_uri": "https://localhost:8080/"
        },
        "id": "EvCpN2nrJKR0",
        "outputId": "59be7567-5ae5-423f-99f0-5ad6519feeb9"
      },
      "source": [
        "X=np.linalg.inv(A).dot(B)\n",
        "print(X)"
      ],
      "execution_count": 23,
      "outputs": [
        {
          "output_type": "stream",
          "name": "stdout",
          "text": [
            "[[[[ 5.]]\n",
            "\n",
            "  [[ 3.]]\n",
            "\n",
            "  [[-2.]]]]\n"
          ]
        }
      ]
    },
    {
      "cell_type": "code",
      "metadata": {
        "colab": {
          "base_uri": "https://localhost:8080/"
        },
        "id": "8jZW0f8HJQpx",
        "outputId": "ec3aa447-df6e-4cc5-eb02-6057a91711b2"
      },
      "source": [
        "X=np.dot(inv_A,B)\n",
        "print(X)"
      ],
      "execution_count": 24,
      "outputs": [
        {
          "output_type": "stream",
          "name": "stdout",
          "text": [
            "[[[[ 5.]]\n",
            "\n",
            "  [[ 3.]]\n",
            "\n",
            "  [[-2.]]]]\n"
          ]
        }
      ]
    },
    {
      "cell_type": "markdown",
      "metadata": {
        "id": "A5zCTE2FNYrG"
      },
      "source": [
        "##Application"
      ]
    },
    {
      "cell_type": "code",
      "metadata": {
        "colab": {
          "base_uri": "https://localhost:8080/"
        },
        "id": "VrIkStvfNbcg",
        "outputId": "b86e3fbf-525b-47ae-ae58-565704c30458"
      },
      "source": [
        "import numpy as np\n",
        "A=np.array([[20,10],[17,22]]) #creation of matrix A\n",
        "print(A)\n",
        "inv_A=np.linalg.inv(A) #creation of inverse of matrix A\n",
        "print(inv_A)"
      ],
      "execution_count": 25,
      "outputs": [
        {
          "output_type": "stream",
          "name": "stdout",
          "text": [
            "[[20 10]\n",
            " [17 22]]\n",
            "[[ 0.08148148 -0.03703704]\n",
            " [-0.06296296  0.07407407]]\n"
          ]
        }
      ]
    },
    {
      "cell_type": "code",
      "metadata": {
        "colab": {
          "base_uri": "https://localhost:8080/"
        },
        "id": "t6RwAUGON4u4",
        "outputId": "fd9fe9b0-630b-4efa-c1f6-b58e592c1c25"
      },
      "source": [
        "B=np.array([[350],[500]])\n",
        "print(B)"
      ],
      "execution_count": 26,
      "outputs": [
        {
          "output_type": "stream",
          "name": "stdout",
          "text": [
            "[[350]\n",
            " [500]]\n"
          ]
        }
      ]
    },
    {
      "cell_type": "code",
      "metadata": {
        "colab": {
          "base_uri": "https://localhost:8080/"
        },
        "id": "xA8yOluWN4ft",
        "outputId": "ac30b2d5-bbc3-448e-d128-8a6ea826ff31"
      },
      "source": [
        "X=np.dot(inv_A,B)\n",
        "print(X)"
      ],
      "execution_count": 27,
      "outputs": [
        {
          "output_type": "stream",
          "name": "stdout",
          "text": [
            "[[10.]\n",
            " [15.]]\n"
          ]
        }
      ]
    },
    {
      "cell_type": "markdown",
      "metadata": {
        "id": "6jL-DabaOnJr"
      },
      "source": [
        "###To check if the answer is correct:"
      ]
    },
    {
      "cell_type": "code",
      "metadata": {
        "colab": {
          "base_uri": "https://localhost:8080/"
        },
        "id": "V6o5TBGROss8",
        "outputId": "89323ebc-0632-45fb-f3c8-accea649ce64"
      },
      "source": [
        "B=np.dot(A,X)\n",
        "print(B)"
      ],
      "execution_count": 29,
      "outputs": [
        {
          "output_type": "stream",
          "name": "stdout",
          "text": [
            "[[350.]\n",
            " [500.]]\n"
          ]
        }
      ]
    }
  ]
}