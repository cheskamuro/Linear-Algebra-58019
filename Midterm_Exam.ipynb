{
  "nbformat": 4,
  "nbformat_minor": 0,
  "metadata": {
    "colab": {
      "name": "Midterm Exam",
      "provenance": [],
      "collapsed_sections": [],
      "authorship_tag": "ABX9TyN4kVLXD/vUG725d5fre7Cm",
      "include_colab_link": true
    },
    "kernelspec": {
      "name": "python3",
      "display_name": "Python 3"
    },
    "language_info": {
      "name": "python"
    }
  },
  "cells": [
    {
      "cell_type": "markdown",
      "metadata": {
        "id": "view-in-github",
        "colab_type": "text"
      },
      "source": [
        "<a href=\"https://colab.research.google.com/github/cheskamuro/Linear-Algebra-58019/blob/main/Midterm_Exam.ipynb\" target=\"_parent\"><img src=\"https://colab.research.google.com/assets/colab-badge.svg\" alt=\"Open In Colab\"/></a>"
      ]
    },
    {
      "cell_type": "markdown",
      "metadata": {
        "id": "yeG6Lqnc-oP1"
      },
      "source": [
        "###Question 1: Create a Python code that displays a square matrix whose length is 5."
      ]
    },
    {
      "cell_type": "code",
      "metadata": {
        "colab": {
          "base_uri": "https://localhost:8080/"
        },
        "id": "lHk8kTvk-n3l",
        "outputId": "840425e5-7688-47ee-c89d-3c8bcc110499"
      },
      "source": [
        "import numpy as np\n",
        "SM = np.array ([[1,0,0,0,1],[2,0,0,0,2],[3,0,0,0,3],[4,0,0,0,4],[5,0,0,0,5]]) #code of a 5x5 matrix\n",
        "print(SM)"
      ],
      "execution_count": 43,
      "outputs": [
        {
          "output_type": "stream",
          "name": "stdout",
          "text": [
            "[[1 0 0 0 1]\n",
            " [2 0 0 0 2]\n",
            " [3 0 0 0 3]\n",
            " [4 0 0 0 4]\n",
            " [5 0 0 0 5]]\n"
          ]
        }
      ]
    },
    {
      "cell_type": "markdown",
      "metadata": {
        "id": "Q8xWmNnn-nny"
      },
      "source": [
        "###Question 2: Create a Python code that displays a square matrix whose elements below the principal diagonal are zero."
      ]
    },
    {
      "cell_type": "code",
      "metadata": {
        "colab": {
          "base_uri": "https://localhost:8080/"
        },
        "id": "8ouroK9_-nWA",
        "outputId": "9ffeef8c-4b4e-4e5e-c790-87cf3ae72c7d"
      },
      "source": [
        "import numpy as np\n",
        "SM= np.array ([[2,2,2,],[0,2,2],[0,0,2]]) #code of a square matrix whose elements below the principal diagonal are zero\n",
        "print(SM)"
      ],
      "execution_count": 39,
      "outputs": [
        {
          "output_type": "stream",
          "name": "stdout",
          "text": [
            "[[2 2 2]\n",
            " [0 2 2]\n",
            " [0 0 2]]\n"
          ]
        }
      ]
    },
    {
      "cell_type": "markdown",
      "metadata": {
        "id": "uHPVlHKd-m6z"
      },
      "source": [
        "###Question 3. Create a Python code that displays a square matrix which is symmetrical."
      ]
    },
    {
      "cell_type": "code",
      "metadata": {
        "colab": {
          "base_uri": "https://localhost:8080/"
        },
        "id": "CSw7bIlNH8AQ",
        "outputId": "91f88226-2013-46b0-d0bc-0eb55c714478"
      },
      "source": [
        "import numpy as np\n",
        "SM = np.array([[1,2,3,4,5],[2,1,2,3,4],[3,2,1,2,3],[4,3,2,1,2],[5,4,3,2,1]]) #code of a square matrix that is symmetrical.\n",
        "print(SM)"
      ],
      "execution_count": 53,
      "outputs": [
        {
          "output_type": "stream",
          "name": "stdout",
          "text": [
            "[[1 2 3 4 5]\n",
            " [2 1 2 3 4]\n",
            " [3 2 1 2 3]\n",
            " [4 3 2 1 2]\n",
            " [5 4 3 2 1]]\n"
          ]
        }
      ]
    },
    {
      "cell_type": "markdown",
      "metadata": {
        "id": "FOxmexaf8GBI"
      },
      "source": [
        "###Question 4: What is the inverse of matrix C? Show your solution by python coding.\n",
        "\n",
        "\n"
      ]
    },
    {
      "cell_type": "code",
      "metadata": {
        "colab": {
          "base_uri": "https://localhost:8080/"
        },
        "id": "5KM_rSoQ8KQq",
        "outputId": "2a2b610f-aca5-4cec-fff2-2c535c02cacb"
      },
      "source": [
        "import numpy as np\n",
        "C=np.array([[[1,2,3],[2,3,3],[3,4,-2]]]) #creation of matrix C\n",
        "print(C)\n",
        "inv_A=np.linalg.inv(C) #creation of the inverse of matrix C\n",
        "print(inv_A)"
      ],
      "execution_count": 4,
      "outputs": [
        {
          "output_type": "stream",
          "name": "stdout",
          "text": [
            "[[[ 1  2  3]\n",
            "  [ 2  3  3]\n",
            "  [ 3  4 -2]]]\n",
            "[[[-3.6  3.2 -0.6]\n",
            "  [ 2.6 -2.2  0.6]\n",
            "  [-0.2  0.4 -0.2]]]\n"
          ]
        }
      ]
    },
    {
      "cell_type": "markdown",
      "metadata": {
        "id": "F7QyXcmT9uLk"
      },
      "source": [
        "##Question 5: What is the determinant of the given matrix in Question 4? Show your solution by python coding."
      ]
    },
    {
      "cell_type": "code",
      "metadata": {
        "colab": {
          "base_uri": "https://localhost:8080/"
        },
        "id": "MHCiMAtT92Ti",
        "outputId": "2425bf54-2a5a-4d7a-da4a-b9a8ae36f1d0"
      },
      "source": [
        "C=np.array([[[1,2,3],[2,3,3],[3,4,-2]]]) #creation of matrix C\n",
        "print(C)\n",
        "detOfC = np.linalg.det(C) #creation of the determinant of matrix C\n",
        "print(\"Determinant of Matrix C:\")\n",
        "print(int(detOfC))"
      ],
      "execution_count": 11,
      "outputs": [
        {
          "output_type": "stream",
          "name": "stdout",
          "text": [
            "[[[ 1  2  3]\n",
            "  [ 2  3  3]\n",
            "  [ 3  4 -2]]]\n",
            "Determinant of Matrix C:\n",
            "5\n"
          ]
        }
      ]
    },
    {
      "cell_type": "markdown",
      "metadata": {
        "id": "MwM0L_ll-Ol4"
      },
      "source": [
        "##Question 6: Find the roots of the linear equations by showing its python codes."
      ]
    },
    {
      "cell_type": "code",
      "metadata": {
        "colab": {
          "base_uri": "https://localhost:8080/"
        },
        "id": "cTpMyRdl-VQY",
        "outputId": "82dd05f0-27be-48ec-97b1-108ae898ff4b"
      },
      "source": [
        "eq = np.array([[5,4,1],[10,9,4],[10,13,15]])\n",
        "const = np.array([[[3.4],[8.8],[19.2]]])\n",
        "roots = np.linalg.inv(eq)@const #creation of the roots of the linear equation\n",
        "print(roots)"
      ],
      "execution_count": 8,
      "outputs": [
        {
          "output_type": "stream",
          "name": "stdout",
          "text": [
            "[[[0.2]\n",
            "  [0.4]\n",
            "  [0.8]]]\n"
          ]
        }
      ]
    }
  ]
}