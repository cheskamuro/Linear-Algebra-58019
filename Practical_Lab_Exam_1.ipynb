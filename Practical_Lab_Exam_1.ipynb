{
  "nbformat": 4,
  "nbformat_minor": 0,
  "metadata": {
    "colab": {
      "name": "Practical Lab Exam 1",
      "provenance": [],
      "collapsed_sections": [],
      "authorship_tag": "ABX9TyM4/MOlgl/uEkYPIMgGGkL5",
      "include_colab_link": true
    },
    "kernelspec": {
      "name": "python3",
      "display_name": "Python 3"
    },
    "language_info": {
      "name": "python"
    }
  },
  "cells": [
    {
      "cell_type": "markdown",
      "metadata": {
        "id": "view-in-github",
        "colab_type": "text"
      },
      "source": [
        "<a href=\"https://colab.research.google.com/github/cheskamuro/Linear-Algebra-58019/blob/main/Practical_Lab_Exam_1.ipynb\" target=\"_parent\"><img src=\"https://colab.research.google.com/assets/colab-badge.svg\" alt=\"Open In Colab\"/></a>"
      ]
    },
    {
      "cell_type": "markdown",
      "metadata": {
        "id": "F74N-s6JqJeC"
      },
      "source": [
        "##Problem 1"
      ]
    },
    {
      "cell_type": "code",
      "metadata": {
        "colab": {
          "base_uri": "https://localhost:8080/"
        },
        "id": "2_XNFkm4qOrO",
        "outputId": "ec68d5a0-e528-4e51-85ca-6157ca7b8aca"
      },
      "source": [
        "import numpy as np #Problem 1\n",
        "A = np.array([[1,2,3],[4,5,6]])\n",
        "B = np.array([[1,2,],[3,4],[5,6]])\n",
        "dot = np.dot(A,B)\n",
        "print(dot) #a"
      ],
      "execution_count": 22,
      "outputs": [
        {
          "output_type": "stream",
          "name": "stdout",
          "text": [
            "[[22 28]\n",
            " [49 64]]\n"
          ]
        }
      ]
    },
    {
      "cell_type": "code",
      "metadata": {
        "colab": {
          "base_uri": "https://localhost:8080/"
        },
        "id": "LanaTXsLvk86",
        "outputId": "46b4d992-bfce-427a-a8fc-f72638d77e26"
      },
      "source": [
        "import numpy as np #Problem 1\n",
        "D = np.array([[1,2,],[3,4]])\n",
        "print(D + D) #b"
      ],
      "execution_count": 24,
      "outputs": [
        {
          "output_type": "stream",
          "name": "stdout",
          "text": [
            "[[2 4]\n",
            " [6 8]]\n"
          ]
        }
      ]
    },
    {
      "cell_type": "code",
      "metadata": {
        "colab": {
          "base_uri": "https://localhost:8080/"
        },
        "id": "PSYOe4ndunBl",
        "outputId": "2a36c467-d952-4d96-b9ad-84974319f7ad"
      },
      "source": [
        "import numpy as np #Problem 1\n",
        "C = np.array([[1,2,3],[4,5,6],[7,8,9]])\n",
        "print(2*C) #c"
      ],
      "execution_count": 23,
      "outputs": [
        {
          "output_type": "stream",
          "name": "stdout",
          "text": [
            "[[ 2  4  6]\n",
            " [ 8 10 12]\n",
            " [14 16 18]]\n"
          ]
        }
      ]
    },
    {
      "cell_type": "markdown",
      "metadata": {
        "id": "lCppzLXpwjIm"
      },
      "source": [
        "##Problem 2"
      ]
    },
    {
      "cell_type": "code",
      "metadata": {
        "colab": {
          "base_uri": "https://localhost:8080/"
        },
        "id": "u9mxNrcawk0x",
        "outputId": "5144369f-3329-4cd3-aa4a-b0d73a17f532"
      },
      "source": [
        "import numpy as np #Problem 2\n",
        "x = np.array([5,3,-1])\n",
        "\n",
        "print(x)\n",
        "print('\\nType of array:', type(x))   #Array\n",
        "print('Size of array:', x.size)      #Size\n",
        "print('Shape of array:', x.shape)    #Shape\n",
        "print('Dimension of array:', x.ndim) #Dimension"
      ],
      "execution_count": 28,
      "outputs": [
        {
          "output_type": "stream",
          "name": "stdout",
          "text": [
            "[ 5  3 -1]\n",
            "\n",
            "Type of array: <class 'numpy.ndarray'>\n",
            "Size of array: 3\n",
            "Shape of array: (3,)\n",
            "Dimension of array: 1\n"
          ]
        }
      ]
    }
  ]
}