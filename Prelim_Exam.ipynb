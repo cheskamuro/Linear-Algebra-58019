{
  "nbformat": 4,
  "nbformat_minor": 0,
  "metadata": {
    "colab": {
      "name": "Prelim Exam",
      "provenance": [],
      "authorship_tag": "ABX9TyPDYOSZZTV12nlAfvA/HWK4",
      "include_colab_link": true
    },
    "kernelspec": {
      "name": "python3",
      "display_name": "Python 3"
    },
    "language_info": {
      "name": "python"
    }
  },
  "cells": [
    {
      "cell_type": "markdown",
      "metadata": {
        "id": "view-in-github",
        "colab_type": "text"
      },
      "source": [
        "<a href=\"https://colab.research.google.com/github/cheskamuro/Linear-Algebra-58019/blob/main/Prelim_Exam.ipynb\" target=\"_parent\"><img src=\"https://colab.research.google.com/assets/colab-badge.svg\" alt=\"Open In Colab\"/></a>"
      ]
    },
    {
      "cell_type": "markdown",
      "metadata": {
        "id": "K5OIQEnejSXz"
      },
      "source": [
        "#Prelim Exam"
      ]
    },
    {
      "cell_type": "code",
      "metadata": {
        "colab": {
          "base_uri": "https://localhost:8080/"
        },
        "id": "FDnsS38zjVRy",
        "outputId": "dfc46a3b-cd07-46d1-81f8-8290b5b13446"
      },
      "source": [
        "#Question 1\n",
        "import numpy as np\n",
        "c = np.ones((4, 4))\n",
        "c[::2, 1::2] = 2\n",
        "c[1::2, ::2] = 3\n",
        "print(c)"
      ],
      "execution_count": 12,
      "outputs": [
        {
          "output_type": "stream",
          "name": "stdout",
          "text": [
            "[[1. 2. 1. 2.]\n",
            " [3. 1. 3. 1.]\n",
            " [1. 2. 1. 2.]\n",
            " [3. 1. 3. 1.]]\n"
          ]
        }
      ]
    },
    {
      "cell_type": "code",
      "metadata": {
        "colab": {
          "base_uri": "https://localhost:8080/"
        },
        "id": "zNns4Y_FkqBq",
        "outputId": "26f6be58-4b07-47a4-a087-72e2279681ed"
      },
      "source": [
        "#Question 2\n",
        "import numpy as np\n",
        "c = np.ones((4, 4))\n",
        "c[::2, 1::2] = 2\n",
        "c[1::2, ::2] = 3\n",
        "print(c*2)"
      ],
      "execution_count": 13,
      "outputs": [
        {
          "output_type": "stream",
          "name": "stdout",
          "text": [
            "[[2. 4. 2. 4.]\n",
            " [6. 2. 6. 2.]\n",
            " [2. 4. 2. 4.]\n",
            " [6. 2. 6. 2.]]\n"
          ]
        }
      ]
    },
    {
      "cell_type": "code",
      "metadata": {
        "colab": {
          "base_uri": "https://localhost:8080/"
        },
        "id": "uUz3ueIHlZoB",
        "outputId": "fbdf071f-e474-4f69-8292-0d7ebb58b15b"
      },
      "source": [
        "#Question 3\n",
        "import numpy as np\n",
        "A = (([2,7,4])) \n",
        "B = (([3,9,8]))\n",
        "output = np.cross(A,B)\n",
        "print(output)"
      ],
      "execution_count": 14,
      "outputs": [
        {
          "output_type": "stream",
          "name": "stdout",
          "text": [
            "[20 -4 -3]\n"
          ]
        }
      ]
    }
  ]
}