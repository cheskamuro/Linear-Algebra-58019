{
  "nbformat": 4,
  "nbformat_minor": 0,
  "metadata": {
    "colab": {
      "name": "Python Exercise 1.ipynb",
      "provenance": [],
      "collapsed_sections": [],
      "toc_visible": true,
      "authorship_tag": "ABX9TyNlQSqH8mUv3GETtcGjWczy",
      "include_colab_link": true
    },
    "kernelspec": {
      "name": "python3",
      "display_name": "Python 3"
    },
    "language_info": {
      "name": "python"
    }
  },
  "cells": [
    {
      "cell_type": "markdown",
      "metadata": {
        "id": "view-in-github",
        "colab_type": "text"
      },
      "source": [
        "<a href=\"https://colab.research.google.com/github/cheskamuro/Linear-Algebra-58019/blob/main/Python_Exercise_1.ipynb\" target=\"_parent\"><img src=\"https://colab.research.google.com/assets/colab-badge.svg\" alt=\"Open In Colab\"/></a>"
      ]
    },
    {
      "cell_type": "markdown",
      "metadata": {
        "id": "tzzDnevd9Kcq"
      },
      "source": [
        "#Matrix and Its Operations"
      ]
    },
    {
      "cell_type": "code",
      "metadata": {
        "colab": {
          "base_uri": "https://localhost:8080/"
        },
        "id": "ufEVWv7z9Lpr",
        "outputId": "f7a73598-2032-4887-957e-46193cf0885d"
      },
      "source": [
        "import numpy as np\n",
        "A = np.array([[5,0],[4,1,]]) #This is Matrix A\n",
        "print(A)\n",
        "B = np.array([[6,-3],[2,3]]) #This is Matrix B\n",
        "print(B)"
      ],
      "execution_count": 12,
      "outputs": [
        {
          "output_type": "stream",
          "name": "stdout",
          "text": [
            "[[5 0]\n",
            " [4 1]]\n",
            "[[ 6 -3]\n",
            " [ 2  3]]\n"
          ]
        }
      ]
    },
    {
      "cell_type": "code",
      "metadata": {
        "colab": {
          "base_uri": "https://localhost:8080/"
        },
        "id": "O3TdTiAB94VJ",
        "outputId": "1c6a6685-52fe-4598-cc1d-f9ad9b897453"
      },
      "source": [
        "import numpy as np\n",
        "A = np.array([[5,0],[4,1,]])\n",
        "B = np.array([[6,-3],[2,3]])\n",
        "print(A+B) #This is the sum of Matrix A&B\n"
      ],
      "execution_count": 6,
      "outputs": [
        {
          "output_type": "stream",
          "name": "stdout",
          "text": [
            "[[11 -3]\n",
            " [ 6  4]]\n"
          ]
        }
      ]
    },
    {
      "cell_type": "code",
      "metadata": {
        "colab": {
          "base_uri": "https://localhost:8080/"
        },
        "id": "HWbQHKar-Fj1",
        "outputId": "5bcd4d86-e069-4071-8225-11d43327fa3a"
      },
      "source": [
        "import numpy as np\n",
        "A = np.array([[5,0],[4,1,]])\n",
        "B = np.array([[6,-3],[2,3]])\n",
        "print(B-A) #This is the difference1 of Matrix A&B\n"
      ],
      "execution_count": 8,
      "outputs": [
        {
          "output_type": "stream",
          "name": "stdout",
          "text": [
            "[[ 1 -3]\n",
            " [-2  2]]\n"
          ]
        }
      ]
    },
    {
      "cell_type": "code",
      "metadata": {
        "colab": {
          "base_uri": "https://localhost:8080/"
        },
        "id": "Ddi6IK3g_8u8",
        "outputId": "4297b7a3-6532-4e49-a5c2-c66040a8afd4"
      },
      "source": [
        "import numpy as np\n",
        "A = np.array([[5,0],[4,1,]])\n",
        "B = np.array([[6,-3],[2,3]])\n",
        "print(A-B) #This is the difference2 of Matrix A&B"
      ],
      "execution_count": 13,
      "outputs": [
        {
          "output_type": "stream",
          "name": "stdout",
          "text": [
            "[[-1  3]\n",
            " [ 2 -2]]\n"
          ]
        }
      ]
    }
  ]
}