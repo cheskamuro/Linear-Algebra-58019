{
  "nbformat": 4,
  "nbformat_minor": 0,
  "metadata": {
    "colab": {
      "name": "Python Exercise 1.ipynb",
      "provenance": [],
      "collapsed_sections": [],
      "authorship_tag": "ABX9TyM1JPvB9J8Ks8RVrs2VCtuI",
      "include_colab_link": true
    },
    "kernelspec": {
      "name": "python3",
      "display_name": "Python 3"
    },
    "language_info": {
      "name": "python"
    }
  },
  "cells": [
    {
      "cell_type": "markdown",
      "metadata": {
        "id": "view-in-github",
        "colab_type": "text"
      },
      "source": [
        "<a href=\"https://colab.research.google.com/github/cheskamuro/Linear-Algebra-58019/blob/main/Python_Exercise_1.ipynb\" target=\"_parent\"><img src=\"https://colab.research.google.com/assets/colab-badge.svg\" alt=\"Open In Colab\"/></a>"
      ]
    },
    {
      "cell_type": "markdown",
      "metadata": {
        "id": "tzzDnevd9Kcq"
      },
      "source": [
        "#Matrix and Its Operations"
      ]
    },
    {
      "cell_type": "code",
      "metadata": {
        "colab": {
          "base_uri": "https://localhost:8080/"
        },
        "id": "ufEVWv7z9Lpr",
        "outputId": "9e7133c9-19fc-4125-ba08-b4f4591c9d4e"
      },
      "source": [
        "import numpy as np\n",
        "A = np.array([[-5,0],[4,1,]]) #This is Matrix A\n",
        "print(A)\n",
        "B = np.array([[6,-3],[2,3]]) #This is Matrix B\n",
        "print(B)"
      ],
      "execution_count": 14,
      "outputs": [
        {
          "output_type": "stream",
          "name": "stdout",
          "text": [
            "[[-5  0]\n",
            " [ 4  1]]\n",
            "[[ 6 -3]\n",
            " [ 2  3]]\n"
          ]
        }
      ]
    },
    {
      "cell_type": "code",
      "metadata": {
        "colab": {
          "base_uri": "https://localhost:8080/"
        },
        "id": "O3TdTiAB94VJ",
        "outputId": "7d7ed205-a644-4a26-d90b-36e0de7019e1"
      },
      "source": [
        "import numpy as np\n",
        "A = np.array([[-5,0],[4,1,]])\n",
        "B = np.array([[6,-3],[2,3]])\n",
        "print(A+B) #This is the sum of Matrix A&B\n"
      ],
      "execution_count": 15,
      "outputs": [
        {
          "output_type": "stream",
          "name": "stdout",
          "text": [
            "[[ 1 -3]\n",
            " [ 6  4]]\n"
          ]
        }
      ]
    },
    {
      "cell_type": "code",
      "metadata": {
        "colab": {
          "base_uri": "https://localhost:8080/"
        },
        "id": "HWbQHKar-Fj1",
        "outputId": "817ee074-cc98-4260-f2d2-3e35440b2559"
      },
      "source": [
        "import numpy as np\n",
        "A = np.array([[-5,0],[4,1,]])\n",
        "B = np.array([[6,-3],[2,3]])\n",
        "print(B-A) #This is the difference1 of Matrix A&B\n"
      ],
      "execution_count": 16,
      "outputs": [
        {
          "output_type": "stream",
          "name": "stdout",
          "text": [
            "[[11 -3]\n",
            " [-2  2]]\n"
          ]
        }
      ]
    },
    {
      "cell_type": "code",
      "metadata": {
        "colab": {
          "base_uri": "https://localhost:8080/"
        },
        "id": "Ddi6IK3g_8u8",
        "outputId": "7c2cd74a-248b-4443-dea9-c8a597c15f1f"
      },
      "source": [
        "import numpy as np\n",
        "A = np.array([[-5,0],[4,1,]])\n",
        "B = np.array([[6,-3],[2,3]])\n",
        "print(A-B) #This is the difference2 of Matrix A&B"
      ],
      "execution_count": 17,
      "outputs": [
        {
          "output_type": "stream",
          "name": "stdout",
          "text": [
            "[[-11   3]\n",
            " [  2  -2]]\n"
          ]
        }
      ]
    }
  ]
}